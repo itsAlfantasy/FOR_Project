{
 "cells": [
  {
   "cell_type": "code",
   "execution_count": null,
   "metadata": {},
   "outputs": [],
   "source": [
    "from amplpy import AMPL, Environment\n",
    "\n",
    "import pandas as pd\n",
    "import numpy as np\n",
    "\n",
    "import matplotlib.pyplot as plt\n",
    "from scipy.spatial import distance_matrix\n",
    "\n",
    "from solution import sequential_savings_init"
   ]
  },
  {
   "cell_type": "code",
   "execution_count": null,
   "metadata": {},
   "outputs": [],
   "source": [
    "pathEnv = \"ABSOLUTE_PATH_AMPL_ENVIRONMENT\"\n",
    "pathModel = \"ABSOLUTE_PATH_FLP_MODEL.MOD\" #TAKE THE FLP_MODEL.MOD FILE THAT YOU FIND IN THIS FOLDER\n",
    "pathData = \"ABSOLUTE_PATH_DATA_FILE\""
   ]
  },
  {
   "cell_type": "code",
   "execution_count": null,
   "metadata": {},
   "outputs": [],
   "source": [
    "ampl = AMPL(Environment(pathEnv))\n",
    "\n",
    "ampl.option['ampl_include'] = 'models'\n",
    "ampl.option['solver'] = 'cplex'\n",
    "ampl.read(pathModel)\n",
    "ampl.readData(pathData)\n",
    "\n",
    "ampl.solve()"
   ]
  },
  {
   "cell_type": "code",
   "execution_count": null,
   "metadata": {},
   "outputs": [],
   "source": [
    "n = ampl.getParameter('n').value()\n",
    "minimart_range = ampl.getParameter('range').value()\n",
    "Vc = ampl.getParameter('Vc').value()\n",
    "Fc = ampl.getParameter('Fc').value()\n",
    "capacity = ampl.getParameter('capacity').value()\n",
    "\n",
    "Cx = ampl.getParameter('Cx').getValues().toList()\n",
    "Cy = ampl.getParameter('Cy').getValues().toList()\n",
    "Dc = ampl.getParameter('Dc').getValues().toList()\n",
    "installed = ampl.getVariable('installed').getValues().toList()\n",
    "\n",
    "total_cost = ampl.getObjective('obj').value()\n",
    "\n",
    "cx_df = pd.DataFrame(Cx)\n",
    "cy_df = pd.DataFrame(Cy)\n",
    "dc_df = pd.DataFrame(Dc)\n",
    "installed_df = pd.DataFrame(installed)\n",
    "\n",
    "# final form of the dataframe\n",
    "df = pd.DataFrame(columns=['Cx', 'Cy', 'Dc', 'installed'], dtype=np.float64)\n",
    "df['Cx'] = cx_df[1]\n",
    "df['Cy'] = cy_df[1]\n",
    "df['Dc'] = dc_df[1]\n",
    "df['installed'] = installed_df[1]\n",
    "\n",
    "\n",
    "inst_df = df[ df['installed'] == 1 ]\n",
    "\n",
    "inst_df\n"
   ]
  },
  {
   "cell_type": "code",
   "execution_count": null,
   "metadata": {},
   "outputs": [],
   "source": [
    "coord_list = list()\n",
    "\n",
    "for _, row in inst_df.iterrows():\n",
    "    x_coord = row['Cx']\n",
    "    y_coord = row['Cy']\n",
    "    new_point = [ x_coord, y_coord ]\n",
    "    coord_list.append(new_point)\n",
    "\n",
    "\n",
    "demand_list = list()\n",
    "demand_list.append(0)\n",
    "\n",
    "for index in range(1, len(inst_df.index)):\n",
    "    demand_list.append(1)\n"
   ]
  },
  {
   "cell_type": "code",
   "execution_count": null,
   "metadata": {},
   "outputs": [],
   "source": [
    "dist = distance_matrix(coord_list, coord_list)"
   ]
  },
  {
   "cell_type": "code",
   "execution_count": null,
   "metadata": {},
   "outputs": [],
   "source": [
    "plt.scatter(inst_df['Cx'], inst_df['Cy'])\n",
    "plt.show()"
   ]
  },
  {
   "cell_type": "code",
   "execution_count": null,
   "metadata": {},
   "outputs": [],
   "source": [
    "sol = sequential_savings_init(dist, demand_list, capacity)"
   ]
  },
  {
   "cell_type": "code",
   "execution_count": null,
   "metadata": {},
   "outputs": [],
   "source": [
    "total_installation_cost = 0.0\n",
    "\n",
    "for _, row in inst_df.iterrows():\n",
    "    total_installation_cost += row['Dc']\n",
    "\n",
    "\n",
    "\n",
    "total_refurbishment_cost = 0.0\n",
    "\n",
    "for i in range(1, len(sol)):\n",
    "    total_refurbishment_cost += dist[sol[i-1], sol[i]] * Vc\n",
    "    \n",
    "    if sol[i] == 0:\n",
    "        total_refurbishment_cost += Fc\n",
    "\n",
    "cost = total_installation_cost + total_refurbishment_cost\n",
    "\n",
    "print(cost)\n",
    "print(total_installation_cost)\n",
    "print(total_refurbishment_cost)\n"
   ]
  },
  {
   "cell_type": "code",
   "execution_count": null,
   "metadata": {},
   "outputs": [],
   "source": [
    "index_list = list()\n",
    "\n",
    "for elem in inst_df.index:\n",
    "    index_list.append(elem+1)\n",
    "\n",
    "print(index_list)\n",
    "\n",
    "routes_list = list()\n",
    "for elem in sol:\n",
    "    routes_list.append(index_list[elem])\n",
    "\n",
    "print(sol)\n",
    "print(routes_list)\n"
   ]
  }
 ],
 "metadata": {
  "interpreter": {
   "hash": "c6e4e9f98eb68ad3b7c296f83d20e6de614cb42e90992a65aa266555a3137d0d"
  },
  "kernelspec": {
   "display_name": "Python 3.9.7 64-bit ('base': conda)",
   "language": "python",
   "name": "python3"
  },
  "language_info": {
   "codemirror_mode": {
    "name": "ipython",
    "version": 3
   },
   "file_extension": ".py",
   "mimetype": "text/x-python",
   "name": "python",
   "nbconvert_exporter": "python",
   "pygments_lexer": "ipython3",
   "version": "3.9.9"
  },
  "orig_nbformat": 4
 },
 "nbformat": 4,
 "nbformat_minor": 2
}
