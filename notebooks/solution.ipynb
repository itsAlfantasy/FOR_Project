{
 "cells": [
  {
   "cell_type": "code",
   "execution_count": 26,
   "metadata": {},
   "outputs": [],
   "source": [
    "from amplpy import AMPL, Environment\n",
    "import pandas as pd\n",
    "import numpy as np"
   ]
  },
  {
   "cell_type": "code",
   "execution_count": 27,
   "metadata": {},
   "outputs": [],
   "source": [
    "ampl = AMPL(Environment(\"/Users/itsalfantasy/Documents/ampl_macos64\"))\n",
    "\n",
    "# TODO : FIX THIS\n",
    "ampl.option['ampl_include'] = 'models'\n",
    "ampl.option['solver'] = 'cplex'\n",
    "ampl.read('/Users/itsalfantasy/Documents/ampl_macos64/minimart_project/project_model.mod')\n",
    "ampl.readData('/Users/itsalfantasy/Documents/ampl_macos64/minimart_project/minimart-I-50.dat')"
   ]
  },
  {
   "cell_type": "code",
   "execution_count": 29,
   "metadata": {},
   "outputs": [],
   "source": [
    "n = ampl.getParameter('n').value()\n",
    "range = ampl.getParameter('range').value()\n",
    "Vc = ampl.getParameter('Vc').value()\n",
    "Fc = ampl.getParameter('Fc').value()\n",
    "capacity = ampl.getParameter('capacity').value()\n",
    "\n",
    "Cx = ampl.getParameter('Cx').getValues().toList()\n",
    "Cy = ampl.getParameter('Cy').getValues().toList()\n",
    "Dc = ampl.getParameter('Dc').getValues().toList()\n",
    "usable = ampl.getParameter('usable').getValues().toList()\n",
    "\n",
    "cx_df = pd.DataFrame(Cx)\n",
    "cy_df = pd.DataFrame(Cy)\n",
    "dc_df = pd.DataFrame(Dc)\n",
    "usable_df = pd.DataFrame(usable)\n",
    "\n",
    "# final form of the dataframe\n",
    "df = pd.DataFrame(columns=['Cx', 'Cy', 'Dc', 'usable'])\n",
    "df['Cx'] = cx_df[1]\n",
    "df['Cy'] = cy_df[1]\n",
    "df['Dc'] = dc_df[1]\n",
    "df['usable'] = usable_df[1]\n"
   ]
  },
  {
   "cell_type": "code",
   "execution_count": null,
   "metadata": {},
   "outputs": [],
   "source": []
  }
 ],
 "metadata": {
  "interpreter": {
   "hash": "c6e4e9f98eb68ad3b7c296f83d20e6de614cb42e90992a65aa266555a3137d0d"
  },
  "kernelspec": {
   "display_name": "Python 3.9.7 64-bit ('base': conda)",
   "language": "python",
   "name": "python3"
  },
  "language_info": {
   "codemirror_mode": {
    "name": "ipython",
    "version": 3
   },
   "file_extension": ".py",
   "mimetype": "text/x-python",
   "name": "python",
   "nbconvert_exporter": "python",
   "pygments_lexer": "ipython3",
   "version": "3.9.9"
  },
  "orig_nbformat": 4
 },
 "nbformat": 4,
 "nbformat_minor": 2
}
