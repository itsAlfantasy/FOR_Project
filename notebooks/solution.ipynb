{
 "cells": [
  {
   "cell_type": "code",
   "execution_count": 128,
   "metadata": {},
   "outputs": [],
   "source": [
    "from amplpy import AMPL, Environment\n",
    "\n",
    "import pandas as pd\n",
    "import numpy as np\n",
    "\n",
    "import matplotlib.pyplot as plt\n",
    "from scipy.spatial import distance_matrix\n",
    "\n",
    "from cwSavings import sequential_savings_init"
   ]
  },
  {
   "cell_type": "code",
   "execution_count": 129,
   "metadata": {},
   "outputs": [
    {
     "name": "stdout",
     "output_type": "stream",
     "text": [
      "CPLEX 20.1.0.0: optimal integer solution; objective 65\n",
      "105 MIP simplex iterations\n",
      "0 branch-and-bound nodes\n"
     ]
    }
   ],
   "source": [
    "ampl = AMPL(Environment(\"/Users/itsalfantasy/Documents/ampl_macos64\"))\n",
    "\n",
    "ampl.option['ampl_include'] = 'models'\n",
    "ampl.option['solver'] = 'cplex'\n",
    "ampl.read('/Users/itsalfantasy/Documents/ampl_macos64/minimart_project/flp_model.mod')\n",
    "ampl.readData('/Users/itsalfantasy/Documents/ampl_macos64/minimart_project/minimart-I-50.dat')\n",
    "\n",
    "ampl.solve()"
   ]
  },
  {
   "cell_type": "code",
   "execution_count": 130,
   "metadata": {},
   "outputs": [
    {
     "data": {
      "text/html": [
       "<div>\n",
       "<style scoped>\n",
       "    .dataframe tbody tr th:only-of-type {\n",
       "        vertical-align: middle;\n",
       "    }\n",
       "\n",
       "    .dataframe tbody tr th {\n",
       "        vertical-align: top;\n",
       "    }\n",
       "\n",
       "    .dataframe thead th {\n",
       "        text-align: right;\n",
       "    }\n",
       "</style>\n",
       "<table border=\"1\" class=\"dataframe\">\n",
       "  <thead>\n",
       "    <tr style=\"text-align: right;\">\n",
       "      <th></th>\n",
       "      <th>Cx</th>\n",
       "      <th>Cy</th>\n",
       "      <th>Dc</th>\n",
       "      <th>installed</th>\n",
       "    </tr>\n",
       "  </thead>\n",
       "  <tbody>\n",
       "    <tr>\n",
       "      <th>0</th>\n",
       "      <td>9.0</td>\n",
       "      <td>22.0</td>\n",
       "      <td>10.0</td>\n",
       "      <td>1.0</td>\n",
       "    </tr>\n",
       "    <tr>\n",
       "      <th>1</th>\n",
       "      <td>22.0</td>\n",
       "      <td>5.0</td>\n",
       "      <td>3.0</td>\n",
       "      <td>1.0</td>\n",
       "    </tr>\n",
       "    <tr>\n",
       "      <th>5</th>\n",
       "      <td>2.0</td>\n",
       "      <td>24.0</td>\n",
       "      <td>4.0</td>\n",
       "      <td>1.0</td>\n",
       "    </tr>\n",
       "    <tr>\n",
       "      <th>8</th>\n",
       "      <td>15.0</td>\n",
       "      <td>2.0</td>\n",
       "      <td>4.0</td>\n",
       "      <td>1.0</td>\n",
       "    </tr>\n",
       "    <tr>\n",
       "      <th>11</th>\n",
       "      <td>34.0</td>\n",
       "      <td>25.0</td>\n",
       "      <td>5.0</td>\n",
       "      <td>1.0</td>\n",
       "    </tr>\n",
       "    <tr>\n",
       "      <th>13</th>\n",
       "      <td>46.0</td>\n",
       "      <td>33.0</td>\n",
       "      <td>1.0</td>\n",
       "      <td>1.0</td>\n",
       "    </tr>\n",
       "    <tr>\n",
       "      <th>15</th>\n",
       "      <td>28.0</td>\n",
       "      <td>46.0</td>\n",
       "      <td>6.0</td>\n",
       "      <td>1.0</td>\n",
       "    </tr>\n",
       "    <tr>\n",
       "      <th>20</th>\n",
       "      <td>33.0</td>\n",
       "      <td>15.0</td>\n",
       "      <td>8.0</td>\n",
       "      <td>1.0</td>\n",
       "    </tr>\n",
       "    <tr>\n",
       "      <th>21</th>\n",
       "      <td>5.0</td>\n",
       "      <td>5.0</td>\n",
       "      <td>3.0</td>\n",
       "      <td>1.0</td>\n",
       "    </tr>\n",
       "    <tr>\n",
       "      <th>30</th>\n",
       "      <td>29.0</td>\n",
       "      <td>17.0</td>\n",
       "      <td>6.0</td>\n",
       "      <td>1.0</td>\n",
       "    </tr>\n",
       "    <tr>\n",
       "      <th>34</th>\n",
       "      <td>22.0</td>\n",
       "      <td>23.0</td>\n",
       "      <td>10.0</td>\n",
       "      <td>1.0</td>\n",
       "    </tr>\n",
       "    <tr>\n",
       "      <th>36</th>\n",
       "      <td>40.0</td>\n",
       "      <td>28.0</td>\n",
       "      <td>3.0</td>\n",
       "      <td>1.0</td>\n",
       "    </tr>\n",
       "    <tr>\n",
       "      <th>37</th>\n",
       "      <td>24.0</td>\n",
       "      <td>22.0</td>\n",
       "      <td>3.0</td>\n",
       "      <td>1.0</td>\n",
       "    </tr>\n",
       "    <tr>\n",
       "      <th>39</th>\n",
       "      <td>25.0</td>\n",
       "      <td>28.0</td>\n",
       "      <td>3.0</td>\n",
       "      <td>1.0</td>\n",
       "    </tr>\n",
       "    <tr>\n",
       "      <th>42</th>\n",
       "      <td>4.0</td>\n",
       "      <td>35.0</td>\n",
       "      <td>4.0</td>\n",
       "      <td>1.0</td>\n",
       "    </tr>\n",
       "  </tbody>\n",
       "</table>\n",
       "</div>"
      ],
      "text/plain": [
       "      Cx    Cy    Dc  installed\n",
       "0    9.0  22.0  10.0        1.0\n",
       "1   22.0   5.0   3.0        1.0\n",
       "5    2.0  24.0   4.0        1.0\n",
       "8   15.0   2.0   4.0        1.0\n",
       "11  34.0  25.0   5.0        1.0\n",
       "13  46.0  33.0   1.0        1.0\n",
       "15  28.0  46.0   6.0        1.0\n",
       "20  33.0  15.0   8.0        1.0\n",
       "21   5.0   5.0   3.0        1.0\n",
       "30  29.0  17.0   6.0        1.0\n",
       "34  22.0  23.0  10.0        1.0\n",
       "36  40.0  28.0   3.0        1.0\n",
       "37  24.0  22.0   3.0        1.0\n",
       "39  25.0  28.0   3.0        1.0\n",
       "42   4.0  35.0   4.0        1.0"
      ]
     },
     "execution_count": 130,
     "metadata": {},
     "output_type": "execute_result"
    }
   ],
   "source": [
    "n = ampl.getParameter('n').value()\n",
    "minimart_range = ampl.getParameter('range').value()\n",
    "Vc = ampl.getParameter('Vc').value()\n",
    "Fc = ampl.getParameter('Fc').value()\n",
    "capacity = ampl.getParameter('capacity').value()\n",
    "\n",
    "Cx = ampl.getParameter('Cx').getValues().toList()\n",
    "Cy = ampl.getParameter('Cy').getValues().toList()\n",
    "Dc = ampl.getParameter('Dc').getValues().toList()\n",
    "installed = ampl.getVariable('installed').getValues().toList()\n",
    "\n",
    "total_cost = ampl.getObjective('obj').value()\n",
    "\n",
    "cx_df = pd.DataFrame(Cx)\n",
    "cy_df = pd.DataFrame(Cy)\n",
    "dc_df = pd.DataFrame(Dc)\n",
    "installed_df = pd.DataFrame(installed)\n",
    "\n",
    "# final form of the dataframe\n",
    "df = pd.DataFrame(columns=['Cx', 'Cy', 'Dc', 'installed'], dtype=np.float64)\n",
    "df['Cx'] = cx_df[1]\n",
    "df['Cy'] = cy_df[1]\n",
    "df['Dc'] = dc_df[1]\n",
    "df['installed'] = installed_df[1]\n",
    "\n",
    "\n",
    "inst_df = df[ df['installed'] == 1 ]\n",
    "\n",
    "inst_df\n"
   ]
  },
  {
   "cell_type": "code",
   "execution_count": 131,
   "metadata": {},
   "outputs": [],
   "source": [
    "coord_list = list()\n",
    "\n",
    "for _, row in inst_df.iterrows():\n",
    "    x_coord = row['Cx']\n",
    "    y_coord = row['Cy']\n",
    "    new_point = [ x_coord, y_coord ]\n",
    "    coord_list.append(new_point)\n",
    "\n",
    "\n",
    "demand_list = list()\n",
    "demand_list.append(0)\n",
    "\n",
    "for index in range(1, len(inst_df.index)):\n",
    "    demand_list.append(1)\n"
   ]
  },
  {
   "cell_type": "code",
   "execution_count": 132,
   "metadata": {},
   "outputs": [],
   "source": [
    "dist = distance_matrix(coord_list, coord_list)"
   ]
  },
  {
   "cell_type": "code",
   "execution_count": 133,
   "metadata": {},
   "outputs": [
    {
     "data": {
      "image/png": "[encoded data removed]",
      "text/plain": [
       "<Figure size 432x288 with 1 Axes>"
      ]
     },
     "metadata": {
      "needs_background": "light"
     },
     "output_type": "display_data"
    }
   ],
   "source": [
    "plt.scatter(inst_df['Cx'], inst_df['Cy'])\n",
    "plt.show()"
   ]
  },
  {
   "cell_type": "code",
   "execution_count": 134,
   "metadata": {},
   "outputs": [],
   "source": [
    "sol = sequential_savings_init(dist, demand_list, capacity)"
   ]
  },
  {
   "cell_type": "code",
   "execution_count": 135,
   "metadata": {},
   "outputs": [],
   "source": [
    "total_installation_cost = 0.0\n",
    "\n",
    "for _, row in inst_df.iterrows():\n",
    "    total_installation_cost += row['Dc']\n",
    "\n",
    "\n",
    "\n",
    "total_refurbishment_cost = 0.0\n",
    "\n",
    "for i in range(1, len(sol)):\n",
    "    total_refurbishment_cost += dist[sol[i-1], sol[i]] * Vc\n",
    "    \n",
    "    if sol[i] == 0:\n",
    "        total_refurbishment_cost += Fc\n",
    "\n",
    "cost = total_installation_cost + total_refurbishment_cost\n",
    "\n"
   ]
  },
  {
   "cell_type": "code",
   "execution_count": 136,
   "metadata": {},
   "outputs": [
    {
     "name": "stdout",
     "output_type": "stream",
     "text": [
      "[1, 2, 6, 9, 12, 14, 16, 21, 22, 31, 35, 37, 38, 40, 43]\n",
      "[0, 13, 12, 9, 7, 4, 11, 5, 6, 14, 2, 0, 8, 3, 1, 10, 0]\n",
      "[1, 40, 38, 31, 21, 12, 37, 14, 16, 43, 6, 1, 22, 9, 2, 35, 1]\n"
     ]
    }
   ],
   "source": [
    "index_list = list()\n",
    "\n",
    "for elem in inst_df.index:\n",
    "    index_list.append(elem+1)\n",
    "\n",
    "print(index_list)\n",
    "\n",
    "routes_list = list()\n",
    "for elem in sol:\n",
    "    routes_list.append(index_list[elem])\n",
    "\n",
    "print(sol)\n",
    "print(routes_list)\n"
   ]
  }
 ],
 "metadata": {
  "interpreter": {
   "hash": "c6e4e9f98eb68ad3b7c296f83d20e6de614cb42e90992a65aa266555a3137d0d"
  },
  "kernelspec": {
   "display_name": "Python 3.9.7 64-bit ('base': conda)",
   "language": "python",
   "name": "python3"
  },
  "language_info": {
   "codemirror_mode": {
    "name": "ipython",
    "version": 3
   },
   "file_extension": ".py",
   "mimetype": "text/x-python",
   "name": "python",
   "nbconvert_exporter": "python",
   "pygments_lexer": "ipython3",
   "version": "3.9.9"
  },
  "orig_nbformat": 4
 },
 "nbformat": 4,
 "nbformat_minor": 2
}
